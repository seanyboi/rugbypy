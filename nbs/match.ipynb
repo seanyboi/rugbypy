{
 "cells": [
  {
   "cell_type": "code",
   "execution_count": null,
   "metadata": {},
   "outputs": [
    {
     "name": "stdout",
     "output_type": "stream",
     "text": [
      "The autoreload extension is already loaded. To reload it, use:\n",
      "  %reload_ext autoreload\n"
     ]
    }
   ],
   "source": [
    "%load_ext autoreload\n",
    "%autoreload 2"
   ]
  },
  {
   "cell_type": "markdown",
   "metadata": {},
   "source": [
    "# match\n",
    "\n",
    "> Fetch match stats for individual games."
   ]
  },
  {
   "cell_type": "code",
   "execution_count": null,
   "metadata": {},
   "outputs": [],
   "source": [
    "#| default_exp match"
   ]
  },
  {
   "cell_type": "code",
   "execution_count": null,
   "metadata": {},
   "outputs": [],
   "source": [
    "#| hide\n",
    "from nbdev.showdoc import *\n",
    "import pandas as pd"
   ]
  },
  {
   "cell_type": "code",
   "execution_count": null,
   "metadata": {},
   "outputs": [],
   "source": [
    "#| export\n",
    "def fetch_matches(date: str):\n",
    "    \"\"\"Fetches all match information on a particular date that includes: \\n\n",
    "    * match_id \\n\n",
    "    * competition_id \\n\n",
    "    * home_team_id \\n\n",
    "    * away_team_id\n",
    "    \"\"\"\n",
    "\n",
    "    print(f\"Fetching matches on date:{date}...\")\n",
    "    try:\n",
    "        date_url = f\"https://github.com/seanyboi/rugbydata/blob/main/data/dates/{date}.parquet?raw=true\"\n",
    "        matches = pd.read_parquet(date_url, engine=\"pyarrow\")\n",
    "        matches = matches.assign(date=date)\n",
    "        return matches\n",
    "    except Exception as e:\n",
    "        print(f\"No match information for matches played on {date} either because no matches took place or rugbypy does not have access to the match data. Please raise if neither.\")"
   ]
  },
  {
   "cell_type": "code",
   "execution_count": null,
   "metadata": {},
   "outputs": [
    {
     "name": "stdout",
     "output_type": "stream",
     "text": [
      "Fetching matches on date:20230101...\n"
     ]
    },
    {
     "data": {
      "text/html": [
       "<div>\n",
       "<style scoped>\n",
       "    .dataframe tbody tr th:only-of-type {\n",
       "        vertical-align: middle;\n",
       "    }\n",
       "\n",
       "    .dataframe tbody tr th {\n",
       "        vertical-align: top;\n",
       "    }\n",
       "\n",
       "    .dataframe thead th {\n",
       "        text-align: right;\n",
       "    }\n",
       "</style>\n",
       "<table border=\"1\" class=\"dataframe\">\n",
       "  <thead>\n",
       "    <tr style=\"text-align: right;\">\n",
       "      <th></th>\n",
       "      <th>match_id</th>\n",
       "      <th>competition_id</th>\n",
       "      <th>home_team_id</th>\n",
       "      <th>away_team_id</th>\n",
       "      <th>date</th>\n",
       "    </tr>\n",
       "  </thead>\n",
       "  <tbody>\n",
       "    <tr>\n",
       "      <th>0</th>\n",
       "      <td>595735</td>\n",
       "      <td>267979</td>\n",
       "      <td>25907</td>\n",
       "      <td>25901</td>\n",
       "      <td>20230101</td>\n",
       "    </tr>\n",
       "  </tbody>\n",
       "</table>\n",
       "</div>"
      ],
      "text/plain": [
       "  match_id competition_id home_team_id away_team_id      date\n",
       "0   595735         267979        25907        25901  20230101"
      ]
     },
     "execution_count": null,
     "metadata": {},
     "output_type": "execute_result"
    }
   ],
   "source": [
    "fetch_matches(date=\"20230101\")"
   ]
  },
  {
   "cell_type": "code",
   "execution_count": null,
   "metadata": {},
   "outputs": [],
   "source": [
    "#| export\n",
    "def fetch_match_details(match_id: str):\n",
    "    \"\"\"Fetches match data for a certain match_id\"\"\"\n",
    "    print(f\"Fetching match details for match_id:{match_id}...\")\n",
    "    try:\n",
    "        match_url = f\"https://github.com/seanyboi/rugbydata/blob/main/data/match/{match_id}.parquet?raw=true\"\n",
    "        matches = pd.read_parquet(match_url, engine=\"pyarrow\")\n",
    "        return matches\n",
    "    except Exception as e:\n",
    "        print(f\"Error fetching match data - {e}. Please raise an issue!\")"
   ]
  },
  {
   "cell_type": "code",
   "execution_count": null,
   "metadata": {},
   "outputs": [
    {
     "name": "stdout",
     "output_type": "stream",
     "text": [
      "Fetching match details for match_id:595735...\n"
     ]
    },
    {
     "data": {
      "text/html": [
       "<div>\n",
       "<style scoped>\n",
       "    .dataframe tbody tr th:only-of-type {\n",
       "        vertical-align: middle;\n",
       "    }\n",
       "\n",
       "    .dataframe tbody tr th {\n",
       "        vertical-align: top;\n",
       "    }\n",
       "\n",
       "    .dataframe thead th {\n",
       "        text-align: right;\n",
       "    }\n",
       "</style>\n",
       "<table border=\"1\" class=\"dataframe\">\n",
       "  <thead>\n",
       "    <tr style=\"text-align: right;\">\n",
       "      <th></th>\n",
       "      <th>match_id</th>\n",
       "      <th>date</th>\n",
       "      <th>competition_id</th>\n",
       "      <th>competition</th>\n",
       "      <th>venue_id</th>\n",
       "      <th>venue</th>\n",
       "      <th>city_played</th>\n",
       "      <th>home_team</th>\n",
       "      <th>away_team</th>\n",
       "      <th>home_team_id</th>\n",
       "      <th>away_team_id</th>\n",
       "      <th>completed</th>\n",
       "      <th>is_tournament</th>\n",
       "      <th>played_on_grass</th>\n",
       "      <th>attendance</th>\n",
       "      <th>home_team_form</th>\n",
       "      <th>away_team_form</th>\n",
       "    </tr>\n",
       "  </thead>\n",
       "  <tbody>\n",
       "    <tr>\n",
       "      <th>0</th>\n",
       "      <td>595735</td>\n",
       "      <td>20230101</td>\n",
       "      <td>267979</td>\n",
       "      <td>Premiership Rugby</td>\n",
       "      <td>26070</td>\n",
       "      <td>cinch Stadium at Franklin's Gardens</td>\n",
       "      <td>Northampton</td>\n",
       "      <td>Northampton Saints</td>\n",
       "      <td>Harlequins</td>\n",
       "      <td>25907</td>\n",
       "      <td>25901</td>\n",
       "      <td>True</td>\n",
       "      <td>True</td>\n",
       "      <td>True</td>\n",
       "      <td>None</td>\n",
       "      <td>LLWWL</td>\n",
       "      <td>WLWLL</td>\n",
       "    </tr>\n",
       "  </tbody>\n",
       "</table>\n",
       "</div>"
      ],
      "text/plain": [
       "  match_id      date competition_id        competition venue_id  \\\n",
       "0   595735  20230101         267979  Premiership Rugby    26070   \n",
       "\n",
       "                                 venue  city_played           home_team  \\\n",
       "0  cinch Stadium at Franklin's Gardens  Northampton  Northampton Saints   \n",
       "\n",
       "    away_team home_team_id away_team_id  completed  is_tournament  \\\n",
       "0  Harlequins        25907        25901       True           True   \n",
       "\n",
       "   played_on_grass attendance home_team_form away_team_form  \n",
       "0             True       None          LLWWL          WLWLL  "
      ]
     },
     "execution_count": null,
     "metadata": {},
     "output_type": "execute_result"
    }
   ],
   "source": [
    "fetch_match_details(match_id=\"595735\")"
   ]
  },
  {
   "cell_type": "code",
   "execution_count": null,
   "metadata": {},
   "outputs": [],
   "source": [
    "#| hide\n",
    "import nbdev; nbdev.nbdev_export()"
   ]
  },
  {
   "cell_type": "code",
   "execution_count": null,
   "metadata": {},
   "outputs": [],
   "source": []
  }
 ],
 "metadata": {
  "kernelspec": {
   "display_name": "python3",
   "language": "python",
   "name": "python3"
  }
 },
 "nbformat": 4,
 "nbformat_minor": 4
}
