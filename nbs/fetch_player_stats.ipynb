{
 "cells": [
  {
   "cell_type": "code",
   "execution_count": null,
   "metadata": {},
   "outputs": [
    {
     "name": "stdout",
     "output_type": "stream",
     "text": [
      "The autoreload extension is already loaded. To reload it, use:\n",
      "  %reload_ext autoreload\n"
     ]
    }
   ],
   "source": [
    "%load_ext autoreload\n",
    "%autoreload 2"
   ]
  },
  {
   "cell_type": "markdown",
   "metadata": {},
   "source": [
    "# fetch_player_stats\n",
    "\n",
    "> Fetch player starts for individual games."
   ]
  },
  {
   "cell_type": "code",
   "execution_count": null,
   "metadata": {},
   "outputs": [],
   "source": [
    "#| default_exp fetch_player_stats"
   ]
  },
  {
   "cell_type": "code",
   "execution_count": null,
   "metadata": {},
   "outputs": [],
   "source": [
    "#| hide\n",
    "from nbdev.showdoc import *\n",
    "import pandas as pd\n",
    "from typing import Optional\n",
    "import os\n",
    "import requests"
   ]
  },
  {
   "cell_type": "code",
   "execution_count": null,
   "metadata": {},
   "outputs": [],
   "source": [
    "#| export\n",
    "def fetch_player_stats(player_id: str, date: Optional[str] = None):\n",
    "    \"\"\"\n",
    "    Fetches all player stats for a particular player or if a date is passed then just for a particular game.\n",
    "    \"\"\"\n",
    "    if date:\n",
    "        print(f\"Fetching player stats for player_id:{player_id} on date:{date}...\")\n",
    "    else:\n",
    "        print(f\"Fetching all player stats for player_id:{player_id}...\")\n",
    "    try:\n",
    "        if date:\n",
    "            player_url = f\"https://github.com/seanyboi/rugbydata/blob/main/data/player/{player_id}/{date}\"\n",
    "            path = requests.get(player_url)\n",
    "            urls = [f\"https://github.com/seanyboi/rugbydata/blob/main/{p['path']}?raw=true\" for p in path.json()[\"payload\"][\"tree\"][\"items\"]]\n",
    "            player_stats = pd.concat((pd.read_parquet(u, engine=\"pyarrow\") for u in urls))\n",
    "            return player_stats\n",
    "        else:\n",
    "            player_url = f\"https://github.com/seanyboi/rugbydata/blob/main/data/player/{player_id}\"\n",
    "            path = requests.get(player_url)\n",
    "            date_urls = [f\"https://github.com/seanyboi/rugbydata/blob/main/{p['path']}\" for p in path.json()[\"payload\"][\"tree\"][\"items\"]]\n",
    "            player_urls = [requests.get(url) for url in date_urls]\n",
    "            player_urls = [p.json()[\"payload\"][\"tree\"][\"items\"][0][\"path\"] for p in player_urls]\n",
    "            player_stats_url = [f\"https://github.com/seanyboi/rugbydata/blob/main/{p}?raw=true\" for p in player_urls]\n",
    "            player_stats = pd.concat((pd.read_parquet(u, engine=\"pyarrow\") for u in player_stats_url))\n",
    "            return player_stats\n",
    "    except Exception as e:\n",
    "        print(f\"No player stats for {player_id} because the player id does not exist. Please raise an issue! - {e}\")"
   ]
  },
  {
   "cell_type": "code",
   "execution_count": null,
   "metadata": {},
   "outputs": [
    {
     "name": "stdout",
     "output_type": "stream",
     "text": [
      "Fetching all player stats for player_id:102049...\n"
     ]
    }
   ],
   "source": [
    "fetch_player_stats(player_id=\"102049\")"
   ]
  },
  {
   "cell_type": "code",
   "execution_count": null,
   "metadata": {},
   "outputs": [
    {
     "name": "stdout",
     "output_type": "stream",
     "text": [
      "Fetching player stats for 102049 on 20230128...\n"
     ]
    },
    {
     "data": {
      "text/html": [
       "<div>\n",
       "<style scoped>\n",
       "    .dataframe tbody tr th:only-of-type {\n",
       "        vertical-align: middle;\n",
       "    }\n",
       "\n",
       "    .dataframe tbody tr th {\n",
       "        vertical-align: top;\n",
       "    }\n",
       "\n",
       "    .dataframe thead th {\n",
       "        text-align: right;\n",
       "    }\n",
       "</style>\n",
       "<table border=\"1\" class=\"dataframe\">\n",
       "  <thead>\n",
       "    <tr style=\"text-align: right;\">\n",
       "      <th></th>\n",
       "      <th>player_id</th>\n",
       "      <th>game_date</th>\n",
       "      <th>name</th>\n",
       "      <th>team</th>\n",
       "      <th>team_id</th>\n",
       "      <th>competition_id</th>\n",
       "      <th>competition</th>\n",
       "      <th>team_vs</th>\n",
       "      <th>team_vs_id</th>\n",
       "      <th>weight</th>\n",
       "      <th>...</th>\n",
       "      <th>rucks_won</th>\n",
       "      <th>runs</th>\n",
       "      <th>tackles</th>\n",
       "      <th>total_free_kicks_conceded</th>\n",
       "      <th>total_lineouts</th>\n",
       "      <th>tries</th>\n",
       "      <th>try_assists</th>\n",
       "      <th>turnover_knock_on</th>\n",
       "      <th>turnovers_conceded</th>\n",
       "      <th>yellow_cards</th>\n",
       "    </tr>\n",
       "  </thead>\n",
       "  <tbody>\n",
       "    <tr>\n",
       "      <th>0</th>\n",
       "      <td>102049</td>\n",
       "      <td>20230128</td>\n",
       "      <td>Billy Twelvetrees</td>\n",
       "      <td>Gloucester Rugby</td>\n",
       "      <td>25900</td>\n",
       "      <td>267979</td>\n",
       "      <td>Premiership Rugby</td>\n",
       "      <td>116227</td>\n",
       "      <td>Exeter Chiefs</td>\n",
       "      <td>101.0</td>\n",
       "      <td>...</td>\n",
       "      <td>3.0</td>\n",
       "      <td>2.0</td>\n",
       "      <td>15.0</td>\n",
       "      <td>0.0</td>\n",
       "      <td>0.0</td>\n",
       "      <td>0.0</td>\n",
       "      <td>0.0</td>\n",
       "      <td>0.0</td>\n",
       "      <td>1.0</td>\n",
       "      <td>0.0</td>\n",
       "    </tr>\n",
       "  </tbody>\n",
       "</table>\n",
       "<p>1 rows × 40 columns</p>\n",
       "</div>"
      ],
      "text/plain": [
       "  player_id game_date               name              team team_id  \\\n",
       "0    102049  20230128  Billy Twelvetrees  Gloucester Rugby   25900   \n",
       "\n",
       "  competition_id        competition team_vs     team_vs_id  weight  ...  \\\n",
       "0         267979  Premiership Rugby  116227  Exeter Chiefs   101.0  ...   \n",
       "\n",
       "   rucks_won runs  tackles  total_free_kicks_conceded  total_lineouts  tries  \\\n",
       "0        3.0  2.0     15.0                        0.0             0.0    0.0   \n",
       "\n",
       "   try_assists  turnover_knock_on  turnovers_conceded  yellow_cards  \n",
       "0          0.0                0.0                 1.0           0.0  \n",
       "\n",
       "[1 rows x 40 columns]"
      ]
     },
     "execution_count": null,
     "metadata": {},
     "output_type": "execute_result"
    }
   ],
   "source": [
    "fetch_player_stats(player_id=\"102049\", date=\"20230128\")"
   ]
  },
  {
   "cell_type": "code",
   "execution_count": null,
   "metadata": {},
   "outputs": [],
   "source": [
    "#| hide\n",
    "import nbdev; nbdev.nbdev_export()"
   ]
  },
  {
   "cell_type": "code",
   "execution_count": null,
   "metadata": {},
   "outputs": [],
   "source": []
  }
 ],
 "metadata": {
  "kernelspec": {
   "display_name": "python3",
   "language": "python",
   "name": "python3"
  }
 },
 "nbformat": 4,
 "nbformat_minor": 2
}
