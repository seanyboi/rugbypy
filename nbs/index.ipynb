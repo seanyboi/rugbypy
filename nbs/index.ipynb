{
 "cells": [
  {
   "cell_type": "code",
   "execution_count": null,
   "metadata": {},
   "outputs": [],
   "source": [
    "#| hide\n",
    "from rugbypy.match import *\n",
    "from rugbypy.team import *\n",
    "from rugbypy.player import *"
   ]
  },
  {
   "cell_type": "markdown",
   "metadata": {},
   "source": [
    "# rugbypy\n",
    "\n",
    "> Repository for rugby data analytics"
   ]
  },
  {
   "cell_type": "markdown",
   "metadata": {},
   "source": [
    "`rugbypy` is a Python package that aims to make rugby data more available to aid in the development of rugby analytics."
   ]
  },
  {
   "cell_type": "markdown",
   "metadata": {},
   "source": [
    "## Requirements"
   ]
  },
  {
   "cell_type": "markdown",
   "metadata": {},
   "source": [
    "python version 3.8"
   ]
  },
  {
   "cell_type": "markdown",
   "metadata": {},
   "source": [
    "## Install"
   ]
  },
  {
   "cell_type": "markdown",
   "metadata": {},
   "source": [
    "```sh\n",
    "pip install rugbypy\n",
    "```"
   ]
  },
  {
   "cell_type": "markdown",
   "metadata": {},
   "source": [
    "```sh\n",
    "conda install -c seanyboi rugbypy\n",
    "```"
   ]
  },
  {
   "cell_type": "markdown",
   "metadata": {},
   "source": [
    "## How to use"
   ]
  },
  {
   "cell_type": "markdown",
   "metadata": {},
   "source": [
    "### Match Stats"
   ]
  },
  {
   "cell_type": "markdown",
   "metadata": {},
   "source": [
    "You can fetch all the matches that occured on a particular date with:"
   ]
  },
  {
   "cell_type": "code",
   "execution_count": null,
   "metadata": {},
   "outputs": [
    {
     "name": "stdout",
     "output_type": "stream",
     "text": [
      "Fetching matches on date:20230101...\n"
     ]
    },
    {
     "data": {
      "text/html": [
       "<div>\n",
       "<style scoped>\n",
       "    .dataframe tbody tr th:only-of-type {\n",
       "        vertical-align: middle;\n",
       "    }\n",
       "\n",
       "    .dataframe tbody tr th {\n",
       "        vertical-align: top;\n",
       "    }\n",
       "\n",
       "    .dataframe thead th {\n",
       "        text-align: right;\n",
       "    }\n",
       "</style>\n",
       "<table border=\"1\" class=\"dataframe\">\n",
       "  <thead>\n",
       "    <tr style=\"text-align: right;\">\n",
       "      <th></th>\n",
       "      <th>match_id</th>\n",
       "      <th>competition_id</th>\n",
       "      <th>home_team_id</th>\n",
       "      <th>away_team_id</th>\n",
       "      <th>date</th>\n",
       "    </tr>\n",
       "  </thead>\n",
       "  <tbody>\n",
       "    <tr>\n",
       "      <th>0</th>\n",
       "      <td>595735</td>\n",
       "      <td>267979</td>\n",
       "      <td>25907</td>\n",
       "      <td>25901</td>\n",
       "      <td>20230101</td>\n",
       "    </tr>\n",
       "  </tbody>\n",
       "</table>\n",
       "</div>"
      ],
      "text/plain": [
       "  match_id competition_id home_team_id away_team_id      date\n",
       "0   595735         267979        25907        25901  20230101"
      ]
     },
     "execution_count": null,
     "metadata": {},
     "output_type": "execute_result"
    }
   ],
   "source": [
    "matches = fetch_matches(date=\"20230101\")\n",
    "matches"
   ]
  },
  {
   "cell_type": "markdown",
   "metadata": {},
   "source": [
    "Then using that match id you can feed it into the match details function:"
   ]
  },
  {
   "cell_type": "code",
   "execution_count": null,
   "metadata": {},
   "outputs": [
    {
     "name": "stdout",
     "output_type": "stream",
     "text": [
      "Fetching match details for match_id:595735...\n"
     ]
    },
    {
     "data": {
      "text/html": [
       "<div>\n",
       "<style scoped>\n",
       "    .dataframe tbody tr th:only-of-type {\n",
       "        vertical-align: middle;\n",
       "    }\n",
       "\n",
       "    .dataframe tbody tr th {\n",
       "        vertical-align: top;\n",
       "    }\n",
       "\n",
       "    .dataframe thead th {\n",
       "        text-align: right;\n",
       "    }\n",
       "</style>\n",
       "<table border=\"1\" class=\"dataframe\">\n",
       "  <thead>\n",
       "    <tr style=\"text-align: right;\">\n",
       "      <th></th>\n",
       "      <th>match_id</th>\n",
       "      <th>date</th>\n",
       "      <th>competition_id</th>\n",
       "      <th>competition</th>\n",
       "      <th>venue_id</th>\n",
       "      <th>venue</th>\n",
       "      <th>city_played</th>\n",
       "      <th>home_team</th>\n",
       "      <th>away_team</th>\n",
       "      <th>home_team_id</th>\n",
       "      <th>away_team_id</th>\n",
       "      <th>completed</th>\n",
       "      <th>is_tournament</th>\n",
       "      <th>played_on_grass</th>\n",
       "      <th>attendance</th>\n",
       "      <th>home_team_form</th>\n",
       "      <th>away_team_form</th>\n",
       "    </tr>\n",
       "  </thead>\n",
       "  <tbody>\n",
       "    <tr>\n",
       "      <th>0</th>\n",
       "      <td>595735</td>\n",
       "      <td>20230101</td>\n",
       "      <td>267979</td>\n",
       "      <td>Premiership Rugby</td>\n",
       "      <td>26070</td>\n",
       "      <td>cinch Stadium at Franklin's Gardens</td>\n",
       "      <td>Northampton</td>\n",
       "      <td>Northampton Saints</td>\n",
       "      <td>Harlequins</td>\n",
       "      <td>25907</td>\n",
       "      <td>25901</td>\n",
       "      <td>True</td>\n",
       "      <td>True</td>\n",
       "      <td>True</td>\n",
       "      <td>None</td>\n",
       "      <td>LLWWL</td>\n",
       "      <td>WLWLL</td>\n",
       "    </tr>\n",
       "  </tbody>\n",
       "</table>\n",
       "</div>"
      ],
      "text/plain": [
       "  match_id      date competition_id        competition venue_id  \\\n",
       "0   595735  20230101         267979  Premiership Rugby    26070   \n",
       "\n",
       "                                 venue  city_played           home_team  \\\n",
       "0  cinch Stadium at Franklin's Gardens  Northampton  Northampton Saints   \n",
       "\n",
       "    away_team home_team_id away_team_id  completed  is_tournament  \\\n",
       "0  Harlequins        25907        25901       True           True   \n",
       "\n",
       "   played_on_grass attendance home_team_form away_team_form  \n",
       "0             True       None          LLWWL          WLWLL  "
      ]
     },
     "execution_count": null,
     "metadata": {},
     "output_type": "execute_result"
    }
   ],
   "source": [
    "match_details = fetch_match_details(match_id=\"595735\")\n",
    "match_details"
   ]
  },
  {
   "cell_type": "markdown",
   "metadata": {},
   "source": [
    "### Team Stats"
   ]
  },
  {
   "cell_type": "markdown",
   "metadata": {},
   "source": [
    "You can then fetch the team stats for a particular team on a particular dates with:"
   ]
  },
  {
   "cell_type": "code",
   "execution_count": null,
   "metadata": {},
   "outputs": [
    {
     "name": "stdout",
     "output_type": "stream",
     "text": [
      "Fetching team stats for team_id:25901 on date:20230108...\n"
     ]
    },
    {
     "data": {
      "text/html": [
       "<div>\n",
       "<style scoped>\n",
       "    .dataframe tbody tr th:only-of-type {\n",
       "        vertical-align: middle;\n",
       "    }\n",
       "\n",
       "    .dataframe tbody tr th {\n",
       "        vertical-align: top;\n",
       "    }\n",
       "\n",
       "    .dataframe thead th {\n",
       "        text-align: right;\n",
       "    }\n",
       "</style>\n",
       "<table border=\"1\" class=\"dataframe\">\n",
       "  <thead>\n",
       "    <tr style=\"text-align: right;\">\n",
       "      <th></th>\n",
       "      <th>team</th>\n",
       "      <th>game_date</th>\n",
       "      <th>team_id</th>\n",
       "      <th>team_vs</th>\n",
       "      <th>team_vs_id</th>\n",
       "      <th>clean_breaks</th>\n",
       "      <th>conversion_goals</th>\n",
       "      <th>defenders_beaten</th>\n",
       "      <th>kick_percent_success</th>\n",
       "      <th>kicks</th>\n",
       "      <th>...</th>\n",
       "      <th>scrums_total</th>\n",
       "      <th>scrums_won</th>\n",
       "      <th>tackles</th>\n",
       "      <th>territory</th>\n",
       "      <th>total_free_kicks_conceded</th>\n",
       "      <th>total_lineouts</th>\n",
       "      <th>tries</th>\n",
       "      <th>turnover_knock_on</th>\n",
       "      <th>turnovers_conceded</th>\n",
       "      <th>yellow_cards</th>\n",
       "    </tr>\n",
       "  </thead>\n",
       "  <tbody>\n",
       "    <tr>\n",
       "      <th>0</th>\n",
       "      <td>Harlequins</td>\n",
       "      <td>20230108</td>\n",
       "      <td>25901</td>\n",
       "      <td>Sale Sharks</td>\n",
       "      <td>25908</td>\n",
       "      <td>3.0</td>\n",
       "      <td>0.0</td>\n",
       "      <td>24.0</td>\n",
       "      <td>0.5</td>\n",
       "      <td>0.0</td>\n",
       "      <td>...</td>\n",
       "      <td>7.0</td>\n",
       "      <td>5.0</td>\n",
       "      <td>125.0</td>\n",
       "      <td>0.41</td>\n",
       "      <td>0.0</td>\n",
       "      <td>11.0</td>\n",
       "      <td>2.0</td>\n",
       "      <td>8.0</td>\n",
       "      <td>17.0</td>\n",
       "      <td>0.0</td>\n",
       "    </tr>\n",
       "  </tbody>\n",
       "</table>\n",
       "<p>1 rows × 40 columns</p>\n",
       "</div>"
      ],
      "text/plain": [
       "         team game_date team_id      team_vs team_vs_id  clean_breaks  \\\n",
       "0  Harlequins  20230108   25901  Sale Sharks      25908           3.0   \n",
       "\n",
       "   conversion_goals  defenders_beaten  kick_percent_success  kicks  ...  \\\n",
       "0               0.0              24.0                   0.5    0.0  ...   \n",
       "\n",
       "   scrums_total  scrums_won  tackles  territory  total_free_kicks_conceded  \\\n",
       "0           7.0         5.0    125.0       0.41                        0.0   \n",
       "\n",
       "   total_lineouts  tries  turnover_knock_on  turnovers_conceded  yellow_cards  \n",
       "0            11.0    2.0                8.0                17.0           0.0  \n",
       "\n",
       "[1 rows x 40 columns]"
      ]
     },
     "execution_count": null,
     "metadata": {},
     "output_type": "execute_result"
    }
   ],
   "source": [
    "team_stats = fetch_team_stats(team_id=\"25901\", date=\"20230108\")\n",
    "team_stats"
   ]
  },
  {
   "cell_type": "markdown",
   "metadata": {},
   "source": [
    "### Player Stats"
   ]
  },
  {
   "cell_type": "markdown",
   "metadata": {},
   "source": [
    "We can also fetch the player stats for any player using their player_ids. In this example we fetch Billy Twelvetrees in game stats:"
   ]
  },
  {
   "cell_type": "code",
   "execution_count": null,
   "metadata": {},
   "outputs": [
    {
     "name": "stdout",
     "output_type": "stream",
     "text": [
      "Fetching all player stats for player_id:102049...\n"
     ]
    },
    {
     "data": {
      "text/html": [
       "<div>\n",
       "<style scoped>\n",
       "    .dataframe tbody tr th:only-of-type {\n",
       "        vertical-align: middle;\n",
       "    }\n",
       "\n",
       "    .dataframe tbody tr th {\n",
       "        vertical-align: top;\n",
       "    }\n",
       "\n",
       "    .dataframe thead th {\n",
       "        text-align: right;\n",
       "    }\n",
       "</style>\n",
       "<table border=\"1\" class=\"dataframe\">\n",
       "  <thead>\n",
       "    <tr style=\"text-align: right;\">\n",
       "      <th></th>\n",
       "      <th>player_id</th>\n",
       "      <th>game_date</th>\n",
       "      <th>name</th>\n",
       "      <th>team</th>\n",
       "      <th>team_id</th>\n",
       "      <th>competition_id</th>\n",
       "      <th>competition</th>\n",
       "      <th>team_vs</th>\n",
       "      <th>team_vs_id</th>\n",
       "      <th>weight</th>\n",
       "      <th>...</th>\n",
       "      <th>rucks_won</th>\n",
       "      <th>runs</th>\n",
       "      <th>tackles</th>\n",
       "      <th>total_free_kicks_conceded</th>\n",
       "      <th>total_lineouts</th>\n",
       "      <th>tries</th>\n",
       "      <th>try_assists</th>\n",
       "      <th>turnover_knock_on</th>\n",
       "      <th>turnovers_conceded</th>\n",
       "      <th>yellow_cards</th>\n",
       "    </tr>\n",
       "  </thead>\n",
       "  <tbody>\n",
       "    <tr>\n",
       "      <th>0</th>\n",
       "      <td>102049</td>\n",
       "      <td>20230106</td>\n",
       "      <td>Billy Twelvetrees</td>\n",
       "      <td>Gloucester Rugby</td>\n",
       "      <td>25900</td>\n",
       "      <td>267979</td>\n",
       "      <td>Premiership Rugby</td>\n",
       "      <td>25909</td>\n",
       "      <td>Saracens</td>\n",
       "      <td>101.0</td>\n",
       "      <td>...</td>\n",
       "      <td>0.0</td>\n",
       "      <td>0.0</td>\n",
       "      <td>2.0</td>\n",
       "      <td>0.0</td>\n",
       "      <td>0.0</td>\n",
       "      <td>0.0</td>\n",
       "      <td>0.0</td>\n",
       "      <td>1.0</td>\n",
       "      <td>1.0</td>\n",
       "      <td>0.0</td>\n",
       "    </tr>\n",
       "    <tr>\n",
       "      <th>0</th>\n",
       "      <td>102049</td>\n",
       "      <td>20230128</td>\n",
       "      <td>Billy Twelvetrees</td>\n",
       "      <td>Gloucester Rugby</td>\n",
       "      <td>25900</td>\n",
       "      <td>267979</td>\n",
       "      <td>Premiership Rugby</td>\n",
       "      <td>116227</td>\n",
       "      <td>Exeter Chiefs</td>\n",
       "      <td>101.0</td>\n",
       "      <td>...</td>\n",
       "      <td>3.0</td>\n",
       "      <td>2.0</td>\n",
       "      <td>15.0</td>\n",
       "      <td>0.0</td>\n",
       "      <td>0.0</td>\n",
       "      <td>0.0</td>\n",
       "      <td>0.0</td>\n",
       "      <td>0.0</td>\n",
       "      <td>1.0</td>\n",
       "      <td>0.0</td>\n",
       "    </tr>\n",
       "    <tr>\n",
       "      <th>0</th>\n",
       "      <td>102049</td>\n",
       "      <td>20230225</td>\n",
       "      <td>Billy Twelvetrees</td>\n",
       "      <td>Gloucester Rugby</td>\n",
       "      <td>25900</td>\n",
       "      <td>267979</td>\n",
       "      <td>Premiership Rugby</td>\n",
       "      <td>25907</td>\n",
       "      <td>Northampton Saints</td>\n",
       "      <td>101.0</td>\n",
       "      <td>...</td>\n",
       "      <td>0.0</td>\n",
       "      <td>0.0</td>\n",
       "      <td>0.0</td>\n",
       "      <td>0.0</td>\n",
       "      <td>0.0</td>\n",
       "      <td>0.0</td>\n",
       "      <td>0.0</td>\n",
       "      <td>1.0</td>\n",
       "      <td>1.0</td>\n",
       "      <td>0.0</td>\n",
       "    </tr>\n",
       "    <tr>\n",
       "      <th>0</th>\n",
       "      <td>102049</td>\n",
       "      <td>20230312</td>\n",
       "      <td>Billy Twelvetrees</td>\n",
       "      <td>Gloucester Rugby</td>\n",
       "      <td>25900</td>\n",
       "      <td>267979</td>\n",
       "      <td>Premiership Rugby</td>\n",
       "      <td>25903</td>\n",
       "      <td>Leicester Tigers</td>\n",
       "      <td>101.0</td>\n",
       "      <td>...</td>\n",
       "      <td>0.0</td>\n",
       "      <td>0.0</td>\n",
       "      <td>4.0</td>\n",
       "      <td>0.0</td>\n",
       "      <td>0.0</td>\n",
       "      <td>0.0</td>\n",
       "      <td>0.0</td>\n",
       "      <td>0.0</td>\n",
       "      <td>0.0</td>\n",
       "      <td>0.0</td>\n",
       "    </tr>\n",
       "    <tr>\n",
       "      <th>0</th>\n",
       "      <td>102049</td>\n",
       "      <td>20230324</td>\n",
       "      <td>Billy Twelvetrees</td>\n",
       "      <td>Gloucester Rugby</td>\n",
       "      <td>25900</td>\n",
       "      <td>267979</td>\n",
       "      <td>Premiership Rugby</td>\n",
       "      <td>25906</td>\n",
       "      <td>Newcastle Falcons</td>\n",
       "      <td>101.0</td>\n",
       "      <td>...</td>\n",
       "      <td>0.0</td>\n",
       "      <td>0.0</td>\n",
       "      <td>4.0</td>\n",
       "      <td>0.0</td>\n",
       "      <td>0.0</td>\n",
       "      <td>0.0</td>\n",
       "      <td>0.0</td>\n",
       "      <td>0.0</td>\n",
       "      <td>0.0</td>\n",
       "      <td>0.0</td>\n",
       "    </tr>\n",
       "    <tr>\n",
       "      <th>0</th>\n",
       "      <td>102049</td>\n",
       "      <td>20230414</td>\n",
       "      <td>Billy Twelvetrees</td>\n",
       "      <td>Gloucester Rugby</td>\n",
       "      <td>25900</td>\n",
       "      <td>267979</td>\n",
       "      <td>Premiership Rugby</td>\n",
       "      <td>25898</td>\n",
       "      <td>Bath Rugby</td>\n",
       "      <td>101.0</td>\n",
       "      <td>...</td>\n",
       "      <td>1.0</td>\n",
       "      <td>2.0</td>\n",
       "      <td>9.0</td>\n",
       "      <td>0.0</td>\n",
       "      <td>0.0</td>\n",
       "      <td>0.0</td>\n",
       "      <td>0.0</td>\n",
       "      <td>1.0</td>\n",
       "      <td>2.0</td>\n",
       "      <td>0.0</td>\n",
       "    </tr>\n",
       "    <tr>\n",
       "      <th>0</th>\n",
       "      <td>102049</td>\n",
       "      <td>20230422</td>\n",
       "      <td>Billy Twelvetrees</td>\n",
       "      <td>Gloucester Rugby</td>\n",
       "      <td>25900</td>\n",
       "      <td>267979</td>\n",
       "      <td>Premiership Rugby</td>\n",
       "      <td>25908</td>\n",
       "      <td>Sale Sharks</td>\n",
       "      <td>101.0</td>\n",
       "      <td>...</td>\n",
       "      <td>0.0</td>\n",
       "      <td>0.0</td>\n",
       "      <td>0.0</td>\n",
       "      <td>0.0</td>\n",
       "      <td>0.0</td>\n",
       "      <td>0.0</td>\n",
       "      <td>0.0</td>\n",
       "      <td>1.0</td>\n",
       "      <td>1.0</td>\n",
       "      <td>0.0</td>\n",
       "    </tr>\n",
       "    <tr>\n",
       "      <th>0</th>\n",
       "      <td>102049</td>\n",
       "      <td>20230506</td>\n",
       "      <td>Billy Twelvetrees</td>\n",
       "      <td>Gloucester Rugby</td>\n",
       "      <td>25900</td>\n",
       "      <td>267979</td>\n",
       "      <td>Premiership Rugby</td>\n",
       "      <td>25899</td>\n",
       "      <td>Bristol Rugby</td>\n",
       "      <td>101.0</td>\n",
       "      <td>...</td>\n",
       "      <td>0.0</td>\n",
       "      <td>1.0</td>\n",
       "      <td>5.0</td>\n",
       "      <td>0.0</td>\n",
       "      <td>0.0</td>\n",
       "      <td>0.0</td>\n",
       "      <td>0.0</td>\n",
       "      <td>2.0</td>\n",
       "      <td>1.0</td>\n",
       "      <td>0.0</td>\n",
       "    </tr>\n",
       "  </tbody>\n",
       "</table>\n",
       "<p>8 rows × 40 columns</p>\n",
       "</div>"
      ],
      "text/plain": [
       "  player_id game_date               name              team team_id  \\\n",
       "0    102049  20230106  Billy Twelvetrees  Gloucester Rugby   25900   \n",
       "0    102049  20230128  Billy Twelvetrees  Gloucester Rugby   25900   \n",
       "0    102049  20230225  Billy Twelvetrees  Gloucester Rugby   25900   \n",
       "0    102049  20230312  Billy Twelvetrees  Gloucester Rugby   25900   \n",
       "0    102049  20230324  Billy Twelvetrees  Gloucester Rugby   25900   \n",
       "0    102049  20230414  Billy Twelvetrees  Gloucester Rugby   25900   \n",
       "0    102049  20230422  Billy Twelvetrees  Gloucester Rugby   25900   \n",
       "0    102049  20230506  Billy Twelvetrees  Gloucester Rugby   25900   \n",
       "\n",
       "  competition_id        competition team_vs          team_vs_id  weight  ...  \\\n",
       "0         267979  Premiership Rugby   25909            Saracens   101.0  ...   \n",
       "0         267979  Premiership Rugby  116227       Exeter Chiefs   101.0  ...   \n",
       "0         267979  Premiership Rugby   25907  Northampton Saints   101.0  ...   \n",
       "0         267979  Premiership Rugby   25903    Leicester Tigers   101.0  ...   \n",
       "0         267979  Premiership Rugby   25906   Newcastle Falcons   101.0  ...   \n",
       "0         267979  Premiership Rugby   25898          Bath Rugby   101.0  ...   \n",
       "0         267979  Premiership Rugby   25908         Sale Sharks   101.0  ...   \n",
       "0         267979  Premiership Rugby   25899       Bristol Rugby   101.0  ...   \n",
       "\n",
       "   rucks_won runs  tackles  total_free_kicks_conceded  total_lineouts  tries  \\\n",
       "0        0.0  0.0      2.0                        0.0             0.0    0.0   \n",
       "0        3.0  2.0     15.0                        0.0             0.0    0.0   \n",
       "0        0.0  0.0      0.0                        0.0             0.0    0.0   \n",
       "0        0.0  0.0      4.0                        0.0             0.0    0.0   \n",
       "0        0.0  0.0      4.0                        0.0             0.0    0.0   \n",
       "0        1.0  2.0      9.0                        0.0             0.0    0.0   \n",
       "0        0.0  0.0      0.0                        0.0             0.0    0.0   \n",
       "0        0.0  1.0      5.0                        0.0             0.0    0.0   \n",
       "\n",
       "   try_assists  turnover_knock_on  turnovers_conceded  yellow_cards  \n",
       "0          0.0                1.0                 1.0           0.0  \n",
       "0          0.0                0.0                 1.0           0.0  \n",
       "0          0.0                1.0                 1.0           0.0  \n",
       "0          0.0                0.0                 0.0           0.0  \n",
       "0          0.0                0.0                 0.0           0.0  \n",
       "0          0.0                1.0                 2.0           0.0  \n",
       "0          0.0                1.0                 1.0           0.0  \n",
       "0          0.0                2.0                 1.0           0.0  \n",
       "\n",
       "[8 rows x 40 columns]"
      ]
     },
     "execution_count": null,
     "metadata": {},
     "output_type": "execute_result"
    }
   ],
   "source": [
    "player_stats = fetch_player_stats(player_id=\"102049\")\n",
    "player_stats"
   ]
  },
  {
   "cell_type": "markdown",
   "metadata": {},
   "source": []
  }
 ],
 "metadata": {
  "kernelspec": {
   "display_name": "python3",
   "language": "python",
   "name": "python3"
  }
 },
 "nbformat": 4,
 "nbformat_minor": 4
}
