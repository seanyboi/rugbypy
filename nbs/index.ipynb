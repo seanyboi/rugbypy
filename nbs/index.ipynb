{
 "cells": [
  {
   "cell_type": "code",
   "execution_count": null,
   "metadata": {},
   "outputs": [],
   "source": [
    "#| hide\n",
    "from rugbypy.match import *\n",
    "from rugbypy.team import *\n",
    "from rugbypy.player import *"
   ]
  },
  {
   "cell_type": "markdown",
   "metadata": {},
   "source": [
    "# rugbypy\n",
    "\n",
    "> Repository for rugby data analytics."
   ]
  },
  {
   "cell_type": "markdown",
   "metadata": {},
   "source": [
    "`rugbypy` is a Python package that aims to make rugby data more available to aid in the development of rugby analytics. Currently we only have 2023 data available with previous years coming soon!"
   ]
  },
  {
   "cell_type": "markdown",
   "metadata": {},
   "source": [
    "## Requirements"
   ]
  },
  {
   "cell_type": "markdown",
   "metadata": {},
   "source": [
    "python version 3.8"
   ]
  },
  {
   "cell_type": "markdown",
   "metadata": {},
   "source": [
    "## Install"
   ]
  },
  {
   "cell_type": "markdown",
   "metadata": {},
   "source": [
    "```sh\n",
    "pip install rugbypy\n",
    "```"
   ]
  },
  {
   "cell_type": "markdown",
   "metadata": {},
   "source": [
    "## How to use"
   ]
  },
  {
   "cell_type": "markdown",
   "metadata": {},
   "source": [
    "### Match Stats"
   ]
  },
  {
   "cell_type": "markdown",
   "metadata": {},
   "source": [
    "You can fetch all the matches that occured on a particular date with:"
   ]
  },
  {
   "cell_type": "code",
   "execution_count": null,
   "metadata": {},
   "outputs": [
    {
     "name": "stdout",
     "output_type": "stream",
     "text": [
      "Fetching matches on date:20230101...\n"
     ]
    },
    {
     "data": {
      "text/html": [
       "<div>\n",
       "<style scoped>\n",
       "    .dataframe tbody tr th:only-of-type {\n",
       "        vertical-align: middle;\n",
       "    }\n",
       "\n",
       "    .dataframe tbody tr th {\n",
       "        vertical-align: top;\n",
       "    }\n",
       "\n",
       "    .dataframe thead th {\n",
       "        text-align: right;\n",
       "    }\n",
       "</style>\n",
       "<table border=\"1\" class=\"dataframe\">\n",
       "  <thead>\n",
       "    <tr style=\"text-align: right;\">\n",
       "      <th></th>\n",
       "      <th>match_id</th>\n",
       "      <th>competition_id</th>\n",
       "      <th>home_team_id</th>\n",
       "      <th>away_team_id</th>\n",
       "      <th>date</th>\n",
       "    </tr>\n",
       "  </thead>\n",
       "  <tbody>\n",
       "    <tr>\n",
       "      <th>0</th>\n",
       "      <td>595735</td>\n",
       "      <td>267979</td>\n",
       "      <td>25907</td>\n",
       "      <td>25901</td>\n",
       "      <td>20230101</td>\n",
       "    </tr>\n",
       "  </tbody>\n",
       "</table>\n",
       "</div>"
      ],
      "text/plain": [
       "  match_id competition_id home_team_id away_team_id      date\n",
       "0   595735         267979        25907        25901  20230101"
      ]
     },
     "execution_count": null,
     "metadata": {},
     "output_type": "execute_result"
    }
   ],
   "source": [
    "matches = fetch_matches(date=\"20230101\")\n",
    "matches"
   ]
  },
  {
   "cell_type": "markdown",
   "metadata": {},
   "source": [
    "Then using that match id you can feed it into the match details function:"
   ]
  },
  {
   "cell_type": "code",
   "execution_count": null,
   "metadata": {},
   "outputs": [
    {
     "name": "stdout",
     "output_type": "stream",
     "text": [
      "Fetching match details for match_id:595735...\n"
     ]
    },
    {
     "data": {
      "text/html": [
       "<div>\n",
       "<style scoped>\n",
       "    .dataframe tbody tr th:only-of-type {\n",
       "        vertical-align: middle;\n",
       "    }\n",
       "\n",
       "    .dataframe tbody tr th {\n",
       "        vertical-align: top;\n",
       "    }\n",
       "\n",
       "    .dataframe thead th {\n",
       "        text-align: right;\n",
       "    }\n",
       "</style>\n",
       "<table border=\"1\" class=\"dataframe\">\n",
       "  <thead>\n",
       "    <tr style=\"text-align: right;\">\n",
       "      <th></th>\n",
       "      <th>match_id</th>\n",
       "      <th>date</th>\n",
       "      <th>competition_id</th>\n",
       "      <th>competition</th>\n",
       "      <th>venue_id</th>\n",
       "      <th>venue</th>\n",
       "      <th>city_played</th>\n",
       "      <th>home_team</th>\n",
       "      <th>away_team</th>\n",
       "      <th>home_team_id</th>\n",
       "      <th>away_team_id</th>\n",
       "      <th>completed</th>\n",
       "      <th>is_tournament</th>\n",
       "      <th>played_on_grass</th>\n",
       "      <th>attendance</th>\n",
       "      <th>home_team_form</th>\n",
       "      <th>away_team_form</th>\n",
       "    </tr>\n",
       "  </thead>\n",
       "  <tbody>\n",
       "    <tr>\n",
       "      <th>0</th>\n",
       "      <td>595735</td>\n",
       "      <td>20230101</td>\n",
       "      <td>267979</td>\n",
       "      <td>Premiership Rugby</td>\n",
       "      <td>26070</td>\n",
       "      <td>cinch Stadium at Franklin's Gardens</td>\n",
       "      <td>Northampton</td>\n",
       "      <td>Northampton Saints</td>\n",
       "      <td>Harlequins</td>\n",
       "      <td>25907</td>\n",
       "      <td>25901</td>\n",
       "      <td>True</td>\n",
       "      <td>True</td>\n",
       "      <td>True</td>\n",
       "      <td>None</td>\n",
       "      <td>LLWWL</td>\n",
       "      <td>WLWLL</td>\n",
       "    </tr>\n",
       "  </tbody>\n",
       "</table>\n",
       "</div>"
      ],
      "text/plain": [
       "  match_id      date competition_id        competition venue_id  \\\n",
       "0   595735  20230101         267979  Premiership Rugby    26070   \n",
       "\n",
       "                                 venue  city_played           home_team  \\\n",
       "0  cinch Stadium at Franklin's Gardens  Northampton  Northampton Saints   \n",
       "\n",
       "    away_team home_team_id away_team_id  completed  is_tournament  \\\n",
       "0  Harlequins        25907        25901       True           True   \n",
       "\n",
       "   played_on_grass attendance home_team_form away_team_form  \n",
       "0             True       None          LLWWL          WLWLL  "
      ]
     },
     "execution_count": null,
     "metadata": {},
     "output_type": "execute_result"
    }
   ],
   "source": [
    "match_details = fetch_match_details(match_id=\"595735\")\n",
    "match_details"
   ]
  },
  {
   "cell_type": "markdown",
   "metadata": {},
   "source": [
    "### Team Stats"
   ]
  },
  {
   "cell_type": "markdown",
   "metadata": {},
   "source": [
    "You can then fetch the team stats for a particular team on a particular date with:"
   ]
  },
  {
   "cell_type": "code",
   "execution_count": null,
   "metadata": {},
   "outputs": [
    {
     "name": "stdout",
     "output_type": "stream",
     "text": [
      "Fetching team stats for team_id:25901 on date:20230108...\n"
     ]
    },
    {
     "data": {
      "text/html": [
       "<div>\n",
       "<style scoped>\n",
       "    .dataframe tbody tr th:only-of-type {\n",
       "        vertical-align: middle;\n",
       "    }\n",
       "\n",
       "    .dataframe tbody tr th {\n",
       "        vertical-align: top;\n",
       "    }\n",
       "\n",
       "    .dataframe thead th {\n",
       "        text-align: right;\n",
       "    }\n",
       "</style>\n",
       "<table border=\"1\" class=\"dataframe\">\n",
       "  <thead>\n",
       "    <tr style=\"text-align: right;\">\n",
       "      <th></th>\n",
       "      <th>team</th>\n",
       "      <th>game_date</th>\n",
       "      <th>team_id</th>\n",
       "      <th>team_vs</th>\n",
       "      <th>team_vs_id</th>\n",
       "      <th>clean_breaks</th>\n",
       "      <th>conversion_goals</th>\n",
       "      <th>defenders_beaten</th>\n",
       "      <th>kick_percent_success</th>\n",
       "      <th>kicks</th>\n",
       "      <th>...</th>\n",
       "      <th>scrums_total</th>\n",
       "      <th>scrums_won</th>\n",
       "      <th>tackles</th>\n",
       "      <th>territory</th>\n",
       "      <th>total_free_kicks_conceded</th>\n",
       "      <th>total_lineouts</th>\n",
       "      <th>tries</th>\n",
       "      <th>turnover_knock_on</th>\n",
       "      <th>turnovers_conceded</th>\n",
       "      <th>yellow_cards</th>\n",
       "    </tr>\n",
       "  </thead>\n",
       "  <tbody>\n",
       "    <tr>\n",
       "      <th>0</th>\n",
       "      <td>Harlequins</td>\n",
       "      <td>20230108</td>\n",
       "      <td>25901</td>\n",
       "      <td>Sale Sharks</td>\n",
       "      <td>25908</td>\n",
       "      <td>3.0</td>\n",
       "      <td>0.0</td>\n",
       "      <td>24.0</td>\n",
       "      <td>0.5</td>\n",
       "      <td>0.0</td>\n",
       "      <td>...</td>\n",
       "      <td>7.0</td>\n",
       "      <td>5.0</td>\n",
       "      <td>125.0</td>\n",
       "      <td>0.41</td>\n",
       "      <td>0.0</td>\n",
       "      <td>11.0</td>\n",
       "      <td>2.0</td>\n",
       "      <td>8.0</td>\n",
       "      <td>17.0</td>\n",
       "      <td>0.0</td>\n",
       "    </tr>\n",
       "  </tbody>\n",
       "</table>\n",
       "<p>1 rows × 40 columns</p>\n",
       "</div>"
      ],
      "text/plain": [
       "         team game_date team_id      team_vs team_vs_id  clean_breaks  \\\n",
       "0  Harlequins  20230108   25901  Sale Sharks      25908           3.0   \n",
       "\n",
       "   conversion_goals  defenders_beaten  kick_percent_success  kicks  ...  \\\n",
       "0               0.0              24.0                   0.5    0.0  ...   \n",
       "\n",
       "   scrums_total  scrums_won  tackles  territory  total_free_kicks_conceded  \\\n",
       "0           7.0         5.0    125.0       0.41                        0.0   \n",
       "\n",
       "   total_lineouts  tries  turnover_knock_on  turnovers_conceded  yellow_cards  \n",
       "0            11.0    2.0                8.0                17.0           0.0  \n",
       "\n",
       "[1 rows x 40 columns]"
      ]
     },
     "execution_count": null,
     "metadata": {},
     "output_type": "execute_result"
    }
   ],
   "source": [
    "team_stats = fetch_team_stats(team_id=\"25901\", date=\"20230108\")\n",
    "team_stats"
   ]
  },
  {
   "cell_type": "markdown",
   "metadata": {},
   "source": [
    "### Player Stats"
   ]
  },
  {
   "cell_type": "markdown",
   "metadata": {},
   "source": [
    "We have the ability to fetch player stats for all the games they have bene involved in. We firstly identify the `player_id`` of a player by searching our player manifest file."
   ]
  },
  {
   "cell_type": "code",
   "execution_count": null,
   "metadata": {},
   "outputs": [
    {
     "data": {
      "text/html": [
       "<div>\n",
       "<style scoped>\n",
       "    .dataframe tbody tr th:only-of-type {\n",
       "        vertical-align: middle;\n",
       "    }\n",
       "\n",
       "    .dataframe tbody tr th {\n",
       "        vertical-align: top;\n",
       "    }\n",
       "\n",
       "    .dataframe thead th {\n",
       "        text-align: right;\n",
       "    }\n",
       "</style>\n",
       "<table border=\"1\" class=\"dataframe\">\n",
       "  <thead>\n",
       "    <tr style=\"text-align: right;\">\n",
       "      <th></th>\n",
       "      <th>player_id</th>\n",
       "      <th>player_name</th>\n",
       "    </tr>\n",
       "  </thead>\n",
       "  <tbody>\n",
       "    <tr>\n",
       "      <th>0</th>\n",
       "      <td>246815</td>\n",
       "      <td>Will Edwards</td>\n",
       "    </tr>\n",
       "    <tr>\n",
       "      <th>1</th>\n",
       "      <td>158708</td>\n",
       "      <td>Tommaso Allan</td>\n",
       "    </tr>\n",
       "    <tr>\n",
       "      <th>2</th>\n",
       "      <td>299436</td>\n",
       "      <td>Oscar Beard</td>\n",
       "    </tr>\n",
       "    <tr>\n",
       "      <th>3</th>\n",
       "      <td>299031</td>\n",
       "      <td>Fin Baxter</td>\n",
       "    </tr>\n",
       "    <tr>\n",
       "      <th>4</th>\n",
       "      <td>298485</td>\n",
       "      <td>Jordan Els</td>\n",
       "    </tr>\n",
       "  </tbody>\n",
       "</table>\n",
       "</div>"
      ],
      "text/plain": [
       "  player_id    player_name\n",
       "0    246815   Will Edwards\n",
       "1    158708  Tommaso Allan\n",
       "2    299436    Oscar Beard\n",
       "3    299031     Fin Baxter\n",
       "4    298485     Jordan Els"
      ]
     },
     "execution_count": null,
     "metadata": {},
     "output_type": "execute_result"
    }
   ],
   "source": [
    "player_manifest = fetch_all_players()\n",
    "player_manifest.head()"
   ]
  },
  {
   "cell_type": "markdown",
   "metadata": {},
   "source": [
    "Or we can search for a certain player through our similarity tool:"
   ]
  },
  {
   "cell_type": "code",
   "execution_count": null,
   "metadata": {},
   "outputs": [
    {
     "data": {
      "text/html": [
       "<div>\n",
       "<style scoped>\n",
       "    .dataframe tbody tr th:only-of-type {\n",
       "        vertical-align: middle;\n",
       "    }\n",
       "\n",
       "    .dataframe tbody tr th {\n",
       "        vertical-align: top;\n",
       "    }\n",
       "\n",
       "    .dataframe thead th {\n",
       "        text-align: right;\n",
       "    }\n",
       "</style>\n",
       "<table border=\"1\" class=\"dataframe\">\n",
       "  <thead>\n",
       "    <tr style=\"text-align: right;\">\n",
       "      <th></th>\n",
       "      <th>player_id</th>\n",
       "      <th>player_name</th>\n",
       "    </tr>\n",
       "  </thead>\n",
       "  <tbody>\n",
       "    <tr>\n",
       "      <th>267</th>\n",
       "      <td>149315</td>\n",
       "      <td>Anthony Watson</td>\n",
       "    </tr>\n",
       "    <tr>\n",
       "      <th>294</th>\n",
       "      <td>16004</td>\n",
       "      <td>Johnny Sexton</td>\n",
       "    </tr>\n",
       "    <tr>\n",
       "      <th>796</th>\n",
       "      <td>291349</td>\n",
       "      <td>Ayden Johnstone</td>\n",
       "    </tr>\n",
       "  </tbody>\n",
       "</table>\n",
       "</div>"
      ],
      "text/plain": [
       "    player_id      player_name\n",
       "267    149315   Anthony Watson\n",
       "294     16004    Johnny Sexton\n",
       "796    291349  Ayden Johnstone"
      ]
     },
     "execution_count": null,
     "metadata": {},
     "output_type": "execute_result"
    }
   ],
   "source": [
    "individual_player = fetch_player(name=\"johnny sexton\")\n",
    "individual_player"
   ]
  },
  {
   "cell_type": "markdown",
   "metadata": {},
   "source": [
    "We can also fetch the player stats for any player using their `player_ids`. In this example we fetch Johnny Sextons player stats:"
   ]
  },
  {
   "cell_type": "code",
   "execution_count": null,
   "metadata": {},
   "outputs": [
    {
     "name": "stdout",
     "output_type": "stream",
     "text": [
      "Fetching all player stats for player_id:16004...\n"
     ]
    },
    {
     "data": {
      "text/html": [
       "<div>\n",
       "<style scoped>\n",
       "    .dataframe tbody tr th:only-of-type {\n",
       "        vertical-align: middle;\n",
       "    }\n",
       "\n",
       "    .dataframe tbody tr th {\n",
       "        vertical-align: top;\n",
       "    }\n",
       "\n",
       "    .dataframe thead th {\n",
       "        text-align: right;\n",
       "    }\n",
       "</style>\n",
       "<table border=\"1\" class=\"dataframe\">\n",
       "  <thead>\n",
       "    <tr style=\"text-align: right;\">\n",
       "      <th></th>\n",
       "      <th>player_id</th>\n",
       "      <th>game_date</th>\n",
       "      <th>name</th>\n",
       "      <th>team</th>\n",
       "      <th>team_id</th>\n",
       "      <th>competition_id</th>\n",
       "      <th>competition</th>\n",
       "      <th>team_vs</th>\n",
       "      <th>team_vs_id</th>\n",
       "      <th>weight</th>\n",
       "      <th>...</th>\n",
       "      <th>rucks_won</th>\n",
       "      <th>runs</th>\n",
       "      <th>tackles</th>\n",
       "      <th>total_free_kicks_conceded</th>\n",
       "      <th>total_lineouts</th>\n",
       "      <th>tries</th>\n",
       "      <th>try_assists</th>\n",
       "      <th>turnover_knock_on</th>\n",
       "      <th>turnovers_conceded</th>\n",
       "      <th>yellow_cards</th>\n",
       "    </tr>\n",
       "  </thead>\n",
       "  <tbody>\n",
       "    <tr>\n",
       "      <th>0</th>\n",
       "      <td>16004</td>\n",
       "      <td>20230204</td>\n",
       "      <td>Johnny Sexton</td>\n",
       "      <td>Ireland</td>\n",
       "      <td>3</td>\n",
       "      <td>180659</td>\n",
       "      <td>Six Nations Championship</td>\n",
       "      <td>4</td>\n",
       "      <td>Wales</td>\n",
       "      <td>92.0</td>\n",
       "      <td>...</td>\n",
       "      <td>3.0</td>\n",
       "      <td>8.0</td>\n",
       "      <td>7.0</td>\n",
       "      <td>0.0</td>\n",
       "      <td>0.0</td>\n",
       "      <td>0.0</td>\n",
       "      <td>0.0</td>\n",
       "      <td>0.0</td>\n",
       "      <td>1.0</td>\n",
       "      <td>0.0</td>\n",
       "    </tr>\n",
       "    <tr>\n",
       "      <th>0</th>\n",
       "      <td>16004</td>\n",
       "      <td>20230211</td>\n",
       "      <td>Johnny Sexton</td>\n",
       "      <td>Ireland</td>\n",
       "      <td>3</td>\n",
       "      <td>180659</td>\n",
       "      <td>Six Nations Championship</td>\n",
       "      <td>9</td>\n",
       "      <td>France</td>\n",
       "      <td>92.0</td>\n",
       "      <td>...</td>\n",
       "      <td>1.0</td>\n",
       "      <td>5.0</td>\n",
       "      <td>3.0</td>\n",
       "      <td>0.0</td>\n",
       "      <td>0.0</td>\n",
       "      <td>0.0</td>\n",
       "      <td>0.0</td>\n",
       "      <td>0.0</td>\n",
       "      <td>0.0</td>\n",
       "      <td>0.0</td>\n",
       "    </tr>\n",
       "    <tr>\n",
       "      <th>0</th>\n",
       "      <td>16004</td>\n",
       "      <td>20230312</td>\n",
       "      <td>Johnny Sexton</td>\n",
       "      <td>Ireland</td>\n",
       "      <td>3</td>\n",
       "      <td>180659</td>\n",
       "      <td>Six Nations Championship</td>\n",
       "      <td>2</td>\n",
       "      <td>Scotland</td>\n",
       "      <td>92.0</td>\n",
       "      <td>...</td>\n",
       "      <td>2.0</td>\n",
       "      <td>5.0</td>\n",
       "      <td>9.0</td>\n",
       "      <td>0.0</td>\n",
       "      <td>0.0</td>\n",
       "      <td>0.0</td>\n",
       "      <td>0.0</td>\n",
       "      <td>0.0</td>\n",
       "      <td>2.0</td>\n",
       "      <td>0.0</td>\n",
       "    </tr>\n",
       "    <tr>\n",
       "      <th>0</th>\n",
       "      <td>16004</td>\n",
       "      <td>20230318</td>\n",
       "      <td>Johnny Sexton</td>\n",
       "      <td>Ireland</td>\n",
       "      <td>3</td>\n",
       "      <td>180659</td>\n",
       "      <td>Six Nations Championship</td>\n",
       "      <td>1</td>\n",
       "      <td>England</td>\n",
       "      <td>92.0</td>\n",
       "      <td>...</td>\n",
       "      <td>6.0</td>\n",
       "      <td>9.0</td>\n",
       "      <td>5.0</td>\n",
       "      <td>0.0</td>\n",
       "      <td>0.0</td>\n",
       "      <td>0.0</td>\n",
       "      <td>0.0</td>\n",
       "      <td>1.0</td>\n",
       "      <td>2.0</td>\n",
       "      <td>0.0</td>\n",
       "    </tr>\n",
       "    <tr>\n",
       "      <th>0</th>\n",
       "      <td>16004</td>\n",
       "      <td>20230909</td>\n",
       "      <td>Johnny Sexton</td>\n",
       "      <td>Ireland</td>\n",
       "      <td>3</td>\n",
       "      <td>164205</td>\n",
       "      <td>Rugby World Cup</td>\n",
       "      <td>12</td>\n",
       "      <td>Romania</td>\n",
       "      <td>92.0</td>\n",
       "      <td>...</td>\n",
       "      <td>0.0</td>\n",
       "      <td>5.0</td>\n",
       "      <td>4.0</td>\n",
       "      <td>0.0</td>\n",
       "      <td>0.0</td>\n",
       "      <td>2.0</td>\n",
       "      <td>0.0</td>\n",
       "      <td>0.0</td>\n",
       "      <td>0.0</td>\n",
       "      <td>0.0</td>\n",
       "    </tr>\n",
       "    <tr>\n",
       "      <th>0</th>\n",
       "      <td>16004</td>\n",
       "      <td>20230916</td>\n",
       "      <td>Johnny Sexton</td>\n",
       "      <td>Ireland</td>\n",
       "      <td>3</td>\n",
       "      <td>164205</td>\n",
       "      <td>Rugby World Cup</td>\n",
       "      <td>16</td>\n",
       "      <td>Tonga</td>\n",
       "      <td>92.0</td>\n",
       "      <td>...</td>\n",
       "      <td>1.0</td>\n",
       "      <td>1.0</td>\n",
       "      <td>2.0</td>\n",
       "      <td>0.0</td>\n",
       "      <td>0.0</td>\n",
       "      <td>1.0</td>\n",
       "      <td>0.0</td>\n",
       "      <td>0.0</td>\n",
       "      <td>0.0</td>\n",
       "      <td>0.0</td>\n",
       "    </tr>\n",
       "  </tbody>\n",
       "</table>\n",
       "<p>6 rows × 40 columns</p>\n",
       "</div>"
      ],
      "text/plain": [
       "  player_id game_date           name     team team_id competition_id  \\\n",
       "0     16004  20230204  Johnny Sexton  Ireland       3         180659   \n",
       "0     16004  20230211  Johnny Sexton  Ireland       3         180659   \n",
       "0     16004  20230312  Johnny Sexton  Ireland       3         180659   \n",
       "0     16004  20230318  Johnny Sexton  Ireland       3         180659   \n",
       "0     16004  20230909  Johnny Sexton  Ireland       3         164205   \n",
       "0     16004  20230916  Johnny Sexton  Ireland       3         164205   \n",
       "\n",
       "                competition team_vs team_vs_id  weight  ...  rucks_won runs  \\\n",
       "0  Six Nations Championship       4      Wales    92.0  ...        3.0  8.0   \n",
       "0  Six Nations Championship       9     France    92.0  ...        1.0  5.0   \n",
       "0  Six Nations Championship       2   Scotland    92.0  ...        2.0  5.0   \n",
       "0  Six Nations Championship       1    England    92.0  ...        6.0  9.0   \n",
       "0           Rugby World Cup      12    Romania    92.0  ...        0.0  5.0   \n",
       "0           Rugby World Cup      16      Tonga    92.0  ...        1.0  1.0   \n",
       "\n",
       "   tackles  total_free_kicks_conceded  total_lineouts  tries  try_assists  \\\n",
       "0      7.0                        0.0             0.0    0.0          0.0   \n",
       "0      3.0                        0.0             0.0    0.0          0.0   \n",
       "0      9.0                        0.0             0.0    0.0          0.0   \n",
       "0      5.0                        0.0             0.0    0.0          0.0   \n",
       "0      4.0                        0.0             0.0    2.0          0.0   \n",
       "0      2.0                        0.0             0.0    1.0          0.0   \n",
       "\n",
       "   turnover_knock_on  turnovers_conceded  yellow_cards  \n",
       "0                0.0                 1.0           0.0  \n",
       "0                0.0                 0.0           0.0  \n",
       "0                0.0                 2.0           0.0  \n",
       "0                1.0                 2.0           0.0  \n",
       "0                0.0                 0.0           0.0  \n",
       "0                0.0                 0.0           0.0  \n",
       "\n",
       "[6 rows x 40 columns]"
      ]
     },
     "execution_count": null,
     "metadata": {},
     "output_type": "execute_result"
    }
   ],
   "source": [
    "player_stats = fetch_player_stats(player_id=\"16004\")\n",
    "player_stats"
   ]
  },
  {
   "cell_type": "markdown",
   "metadata": {},
   "source": []
  }
 ],
 "metadata": {
  "kernelspec": {
   "display_name": "python3",
   "language": "python",
   "name": "python3"
  }
 },
 "nbformat": 4,
 "nbformat_minor": 4
}
